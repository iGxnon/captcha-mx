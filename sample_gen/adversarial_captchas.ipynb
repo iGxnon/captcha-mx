{
 "cells": [
  {
   "cell_type": "code",
   "execution_count": 2,
   "outputs": [],
   "source": [
    "import random\n",
    "import colorsys\n",
    "\n",
    "import numpy as np\n",
    "from PIL import Image\n",
    "from PIL import ImageFont\n",
    "from PIL import ImageDraw\n",
    "from PIL import ImageEnhance\n",
    "import shutil\n",
    "import os\n",
    "import datetime"
   ],
   "metadata": {
    "collapsed": false,
    "pycharm": {
     "name": "#%%\n"
    }
   }
  },
  {
   "cell_type": "code",
   "execution_count": 3,
   "outputs": [
    {
     "data": {
      "text/plain": "('sw19', 'liJj')"
     },
     "execution_count": 3,
     "metadata": {},
     "output_type": "execute_result"
    }
   ],
   "source": [
    "CAPTCHA_CHARS = list('0123456789abcdefghijklmnopqrstuvwxyzABCDEFGHIJKLMNOPQRSTUVWXYZ')\n",
    "# Difficult version\n",
    "CAPTCHA_CHARS_HARD = ['oOQD', '8BE', 'g9q7', '1IiljJ', '2zZ', '5Ss', 'A4', 'mnMN']\n",
    "\n",
    "def random_color():\n",
    "    return tuple(map(lambda x: int(x*255), colorsys.hsv_to_rgb(random.random()-0.3, random.randint(8, 10)/10, random.randint(0, 5)/5)))\n",
    "\n",
    "def random_captcha_str(length):\n",
    "    return \"\".join(random.choices(CAPTCHA_CHARS, k=length))\n",
    "\n",
    "def random_captcha_str_hard(length):\n",
    "    chars_like = random.choice(CAPTCHA_CHARS_HARD)\n",
    "    weights_like = np.ones(len(chars_like), dtype=float)\n",
    "    weights_other = np.zeros(len(CAPTCHA_CHARS), dtype=float) + (1 / len(CAPTCHA_CHARS) * 1.7)\n",
    "    weights = np.concatenate((weights_like, weights_other), axis=0)\n",
    "    concat = np.concatenate((list(chars_like), CAPTCHA_CHARS), axis=0)\n",
    "    return \"\".join(random.choices(concat, weights=weights, k=length))\n",
    "\n",
    "random_captcha_str(4), random_captcha_str_hard(4)"
   ],
   "metadata": {
    "collapsed": false,
    "pycharm": {
     "name": "#%%\n"
    }
   }
  },
  {
   "cell_type": "code",
   "execution_count": 4,
   "outputs": [],
   "source": [
    "def generate_picture(width=80, height=30):\n",
    "    image = Image.new('RGB', (width, height), color=(226, 239, 248))\n",
    "    return image"
   ],
   "metadata": {
    "collapsed": false,
    "pycharm": {
     "name": "#%%\n"
    }
   }
  },
  {
   "cell_type": "code",
   "execution_count": 5,
   "outputs": [
    {
     "data": {
      "text/plain": "<PIL.Image.Image image mode=RGB size=80x30>",
      "image/png": "[encoded data removed]"
     },
     "execution_count": 5,
     "metadata": {},
     "output_type": "execute_result"
    }
   ],
   "source": [
    "def draw_captcha(image, captcha, font_size=25, line_count=5):\n",
    "    draw = ImageDraw.Draw(image)\n",
    "    # 获取一个font字体对象参数是ttf的字体文件的目录，以及字体的大小\n",
    "    font_file = os.path.join('./fonts/font3.ttf')\n",
    "    font = ImageFont.truetype(font_file, size=font_size, index=0)\n",
    "    for i in range(line_count):\n",
    "        x1 = random.randint(0, image.width)\n",
    "        x2 = random.randint(0, image.width)\n",
    "        y1 = random.randint(0, image.height)\n",
    "        y2 = random.randint(0, image.height)\n",
    "        # 随机划线\n",
    "        draw.line((x1, y1, x2, y2), fill=random_color())\n",
    "    for i, random_char in enumerate(list(captcha)):\n",
    "        draw.text((2+i*20, -3), random_char, random_color(), font=font)\n",
    "\n",
    "    #对比度增强\n",
    "    enh_con = ImageEnhance.Contrast(image)\n",
    "    contrast = 1.1\n",
    "    image = enh_con.enhance(contrast)\n",
    "\n",
    "    #锐度增强\n",
    "    enh_sha = ImageEnhance.Sharpness(image)\n",
    "    sharpness = 3.5\n",
    "    image = enh_sha.enhance(sharpness)\n",
    "\n",
    "    return image\n",
    "\n",
    "draw_captcha(generate_picture(), random_captcha_str_hard(4))"
   ],
   "metadata": {
    "collapsed": false,
    "pycharm": {
     "name": "#%%\n"
    }
   }
  },
  {
   "cell_type": "code",
   "execution_count": 8,
   "outputs": [],
   "source": [
    "test = os.fspath('../sample/test')\n",
    "train = os.fspath('../sample/train')\n",
    "\n",
    "shutil.rmtree(test)\n",
    "os.mkdir(test)\n",
    "shutil.rmtree(train)\n",
    "os.mkdir(train)\n",
    "\n",
    "if __name__ == '__main__':\n",
    "    now_stamp = int(datetime.datetime.now().timestamp())\n",
    "    for _ in range(10000):\n",
    "        now_stamp += 1\n",
    "        label = random_captcha_str_hard(4)\n",
    "        fname = f'{label}_{now_stamp}.jpg'\n",
    "        if random.choices([True, False], weights=[7, 3])[0]:\n",
    "            draw_captcha(generate_picture(), label, line_count=10).save(os.path.join(train, fname))\n",
    "        else:\n",
    "            draw_captcha(generate_picture(), label, line_count=10).save(os.path.join(test, fname))"
   ],
   "metadata": {
    "collapsed": false,
    "pycharm": {
     "name": "#%%\n"
    }
   }
  },
  {
   "cell_type": "code",
   "execution_count": null,
   "outputs": [],
   "source": [],
   "metadata": {
    "collapsed": false,
    "pycharm": {
     "name": "#%%\n"
    }
   }
  }
 ],
 "metadata": {
  "kernelspec": {
   "display_name": "Python 3",
   "language": "python",
   "name": "python3"
  },
  "language_info": {
   "codemirror_mode": {
    "name": "ipython",
    "version": 2
   },
   "file_extension": ".py",
   "mimetype": "text/x-python",
   "name": "python",
   "nbconvert_exporter": "python",
   "pygments_lexer": "ipython2",
   "version": "2.7.6"
  }
 },
 "nbformat": 4,
 "nbformat_minor": 0
}